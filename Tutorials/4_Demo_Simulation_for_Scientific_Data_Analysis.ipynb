{
 "cells": [
  {
   "cell_type": "markdown",
   "metadata": {},
   "source": [
    "# A simple demonstration for the simulation of \"GW + noise + anomaly\" data \n",
    "This demonstration is nothing more than a simple integration of the former three. \n",
    "The purpose is to showcase how to simulate data containing multiple GW signals, noises and anomalies (glitch for example). \n",
    "Users may go back to the former demos for explanations of the details. "
   ]
  },
  {
   "cell_type": "markdown",
   "metadata": {},
   "source": [
    "## Load the necessary libraries, set multiprocessing and logging messages "
   ]
  },
  {
   "cell_type": "code",
   "execution_count": 1,
   "metadata": {},
   "outputs": [],
   "source": [
    "# limit the thread used by numpy for better parallelization \n",
    "import os\n",
    "os.environ[\"OMP_NUM_THREADS\"] = \"1\"\n",
    "os.environ[\"OPENBLAS_NUM_THREADS\"] = \"1\"\n",
    "os.environ[\"MKL_NUM_THREADS\"] = \"1\"\n",
    "os.environ[\"NUMEXPR_NUM_THREADS\"] = \"1\"\n",
    "os.environ[\"VECLIB_MAXIMUM_THREADS\"] = \"1\"  \n",
    "os.environ[\"MKL_NUM_THREADS\"] = \"1\""
   ]
  },
  {
   "cell_type": "code",
   "execution_count": 2,
   "metadata": {},
   "outputs": [
    {
     "name": "stderr",
     "output_type": "stream",
     "text": [
      "PyCBC.libutils: pkg-config call failed, setting NO_PKGCONFIG=1\n"
     ]
    },
    {
     "name": "stdout",
     "output_type": "stream",
     "text": [
      "number of cpus = 12\n"
     ]
    }
   ],
   "source": [
    "import sys\n",
    "import numpy as np\n",
    "import matplotlib.pyplot as plt\n",
    "import logging\n",
    "\n",
    "sys.path.append('..')\n",
    "from Triangle.Constants import *\n",
    "from Triangle.FFTTools import *\n",
    "from Triangle.Noise import *\n",
    "from Triangle.Orbit import *\n",
    "from Triangle.Offset import *\n",
    "from Triangle.Plot import *\n",
    "from Triangle.Data import *\n",
    "from Triangle.Interferometer import *\n",
    "from Triangle.TDI import *\n",
    "from Triangle.Glitch import * \n",
    "from Triangle.GW import * \n",
    "\n",
    "import healpy as hlp \n",
    "\n",
    "# Uncomment this if LaTeX is installed for better visualization\n",
    "# import matplotlib\n",
    "# matplotlib.rcParams['text.usetex'] = True\n",
    "# matplotlib.rcParams['font.family'] = 'serif'\n",
    "\n",
    "logging.basicConfig()\n",
    "logging.getLogger().setLevel(logging.INFO)\n",
    "\n",
    "import multiprocessing\n",
    "if __name__=='__main__':\n",
    "    multiprocessing.set_start_method(\"fork\")\n",
    "print('number of cpus =', multiprocessing.cpu_count())\n",
    "pool = multiprocessing.Pool(processes=multiprocessing.cpu_count())\n",
    "# pool = None "
   ]
  },
  {
   "cell_type": "markdown",
   "metadata": {},
   "source": [
    "## Settings for the simulation "
   ]
  },
  {
   "cell_type": "code",
   "execution_count": 3,
   "metadata": {},
   "outputs": [],
   "source": [
    "fsample = 1 / 10.  # the sampling rate of data, default is 4 Hz. \n",
    "data_time = 10. * DAY # the time duration of simulation. The MicroSate orbit has a max length of 110 days, and simulation based on this orbit should not exceed this limit.\n",
    "size = int(data_time * fsample) # size of the simulated time series. \n",
    "interp_order = 31 # order of lagrange interpolation, default is 31. Here we use a high order of interpolation since the simulation includes noises. \n",
    "\n",
    "default_noise = True  # whether to use the default noise models (True), or to modify some of the noise components in the middle of simulation (False).\n",
    "TDI_method = 'fast_michelson' # method to calculate TDI combination, options: 'fast_michelson', 'channel_name', 'channel_path', 'channel_operator'."
   ]
  },
  {
   "cell_type": "markdown",
   "metadata": {},
   "source": [
    "## Set the models of orbit, offsets, and noises"
   ]
  },
  {
   "cell_type": "code",
   "execution_count": 4,
   "metadata": {},
   "outputs": [],
   "source": [
    "# initialize orbit model from orbit data file \n",
    "tstart = 0. # the start time of simulation relative to initial time of orbit, default is 0 second. \n",
    "orbit = Orbit(OrbitDir='../OrbitData/MicroSateOrbitEclipticTCB', tstart=tstart) \n",
    "\n",
    "# set the drifts of lasers and clocks\n",
    "offset = OffsetFunctions(laser_flag=False, clock_flag=False) \n",
    "\n",
    "# initialize the models of basic instrumental noises \n",
    "noise = InstrumentalPSDs(L=L_nominal) "
   ]
  },
  {
   "cell_type": "markdown",
   "metadata": {},
   "source": [
    "## Define GW signals "
   ]
  },
  {
   "cell_type": "markdown",
   "metadata": {},
   "source": [
    "### 1. Initialize GB waveforms "
   ]
  },
  {
   "cell_type": "code",
   "execution_count": 5,
   "metadata": {},
   "outputs": [
    {
     "name": "stdout",
     "output_type": "stream",
     "text": [
      "initializing responses.\n"
     ]
    },
    {
     "name": "stderr",
     "output_type": "stream",
     "text": [
      "100%|██████████| 1/1 [00:00<00:00, 14513.16it/s]"
     ]
    },
    {
     "name": "stdout",
     "output_type": "stream",
     "text": [
      "responses initialized.\n"
     ]
    },
    {
     "name": "stderr",
     "output_type": "stream",
     "text": [
      "\n"
     ]
    }
   ],
   "source": [
    "gw_gb = Initialize_GW_response(\n",
    "    signal_type=\"GB\", \n",
    "    parameters={\n",
    "        \"A\": 1.39879192e-22, \n",
    "        \"f0\": 0.00984299, \n",
    "        \"fdot0\": 4.31168731e-16, \n",
    "        \"phase0\": 0.79960729, \n",
    "        \"inclination\": 2.29680093, \n",
    "        \"longitude\": 4.50950561, \n",
    "        \"latitude\": -0.30076513, \n",
    "        \"psi\": 3.08152927, \n",
    "    }, \n",
    "    orbit=orbit, \n",
    ")"
   ]
  },
  {
   "cell_type": "markdown",
   "metadata": {},
   "source": [
    "### 2. Initialize MBHB waveforms"
   ]
  },
  {
   "cell_type": "code",
   "execution_count": 6,
   "metadata": {},
   "outputs": [
    {
     "name": "stdout",
     "output_type": "stream",
     "text": [
      "initializing responses.\n"
     ]
    },
    {
     "name": "stderr",
     "output_type": "stream",
     "text": [
      "100%|██████████| 1/1 [00:00<00:00,  8.79it/s]"
     ]
    },
    {
     "name": "stdout",
     "output_type": "stream",
     "text": [
      "responses initialized.\n"
     ]
    },
    {
     "name": "stderr",
     "output_type": "stream",
     "text": [
      "\n"
     ]
    }
   ],
   "source": [
    "gw_mbhb = Initialize_GW_response(\n",
    "    signal_type=\"MBHB\", \n",
    "    parameters={\n",
    "        \"chirp_mass\": 400000.0, \n",
    "        \"mass_ratio\": 0.3640815267051051, \n",
    "        \"spin_1z\": 0.7899406190510447, \n",
    "        \"spin_2z\": 0.015424596359292053, \n",
    "        \"coalescence_time\": 5., \n",
    "        \"coalescence_phase\": 3.2535342675592966, \n",
    "        \"luminosity_distance\": 106039.10941463517, \n",
    "        \"inclination\": 1.4495086550199021, \n",
    "        \"longitude\": 3.032776598141215, \n",
    "        \"latitude\": -1.1817968279048852, \n",
    "        \"psi\": 0.2409146690555858\n",
    "    }, \n",
    "    orbit=orbit, \n",
    "    approximant=\"SEOBNRv4_opt\", \n",
    ")"
   ]
  },
  {
   "cell_type": "markdown",
   "metadata": {},
   "source": [
    "### 3. Initialize custom GW waveform (EMRI for example)"
   ]
  },
  {
   "cell_type": "code",
   "execution_count": 7,
   "metadata": {},
   "outputs": [
    {
     "name": "stdout",
     "output_type": "stream",
     "text": [
      "initializing responses.\n"
     ]
    },
    {
     "name": "stderr",
     "output_type": "stream",
     "text": [
      "100%|██████████| 1/1 [00:00<00:00,  3.94it/s]"
     ]
    },
    {
     "name": "stdout",
     "output_type": "stream",
     "text": [
      "responses initialized.\n"
     ]
    },
    {
     "name": "stderr",
     "output_type": "stream",
     "text": [
      "\n"
     ]
    }
   ],
   "source": [
    "waveform_data = np.load(\"../GWData/Demo_EMRI_waveform_data.npz\")\n",
    "tdata, hpdata, hcdata = waveform_data[\"t\"], waveform_data[\"h1\"], -waveform_data[\"h2\"] # since h2 is -hx \n",
    "\n",
    "gw_emri = Initialize_GW_response(\n",
    "    signal_type=\"general\", \n",
    "    parameters={\n",
    "        \"longitude\": np.random.uniform(0, TWOPI), \n",
    "        \"latitude\": np.arcsin(np.random.uniform(-1, 1)), \n",
    "        \"psi\": np.random.uniform(0, PI), \n",
    "    }, \n",
    "    orbit=orbit, \n",
    "    data=[\n",
    "        [tdata, hpdata, hcdata], \n",
    "    ],\n",
    ")"
   ]
  },
  {
   "cell_type": "markdown",
   "metadata": {},
   "source": [
    "### 4. Initialize SGWB signals"
   ]
  },
  {
   "cell_type": "code",
   "execution_count": 8,
   "metadata": {},
   "outputs": [
    {
     "name": "stdout",
     "output_type": "stream",
     "text": [
      "number of directions: 300\n"
     ]
    },
    {
     "name": "stderr",
     "output_type": "stream",
     "text": [
      "100%|██████████| 300/300 [00:06<00:00, 44.72it/s]\n"
     ]
    }
   ],
   "source": [
    "# define the SGWB fractional density \n",
    "def Omega_SGWB(f, Omega0, f0, n): \n",
    "    return Omega0 * (f / f0) ** n \n",
    "\n",
    "# define the PSD of polarizations \n",
    "def S_SGWB(f, Omega0=1e-11, f0=3.162e-3, n=-1.): \n",
    "    Omega = Omega_SGWB(f, Omega0, f0, n)\n",
    "    return 3. * H0 ** 2 / 4. / np.pi ** 2 / f ** 3 * Omega * 1e6 / MPC ** 2 \n",
    "\n",
    "# get the sky locations \n",
    "NSIDE = 5 \n",
    "NPIX = hlp.nside2npix(NSIDE) # number of pixels in the whole sky \n",
    "print(\"number of directions:\", NPIX)\n",
    "colatitude, longitude = hlp.pix2ang(nside=NSIDE, ipix=np.arange(NPIX))\n",
    "latitude = np.pi / 2. - colatitude\n",
    "\n",
    "# generate stochastic signals in all the directions \n",
    "sgwb_generator = GeneralNoise(S_SGWB)\n",
    "tdata = np.arange(size) / fsample\n",
    "gw_sgwb = [] \n",
    "for i in tqdm(range(NPIX)): \n",
    "    hp_k = sgwb_generator(fsample=fsample, size=size) / np.sqrt(NPIX * 2.) # the relationship between h and SGW might vary in the literature, differing by a constant factor.\n",
    "    hc_k = sgwb_generator(fsample=fsample, size=size) / np.sqrt(NPIX * 2.)\n",
    "    Waveform_k = GeneralWaveform(tdata=tdata, hpdata=hp_k, hcdata=hc_k)\n",
    "    GW_k = GW(orbit=orbit, ext_params=[longitude[i], latitude[i], 0.], GWwaveform=Waveform_k) # here we set psi=0 since it is absorbed to h+ and hx\n",
    "    gw_sgwb.append(GW_k)"
   ]
  },
  {
   "cell_type": "markdown",
   "metadata": {},
   "source": [
    "### 5. Combine all GW signals"
   ]
  },
  {
   "cell_type": "code",
   "execution_count": 9,
   "metadata": {},
   "outputs": [],
   "source": [
    "# the responses will be calculated in parallel \n",
    "gw = gw_gb + gw_mbhb + gw_emri + gw_sgwb"
   ]
  },
  {
   "cell_type": "markdown",
   "metadata": {},
   "source": [
    "## Interferometey simulation \n",
    "we only turn on the test-mass acceleration noises and the read out noises of interferometers, since these two are regarded as the main contributors to the  noise floor of TDI data. "
   ]
  },
  {
   "cell_type": "code",
   "execution_count": 10,
   "metadata": {},
   "outputs": [
    {
     "name": "stderr",
     "output_type": "stream",
     "text": [
      "INFO:Triangle.Interferometer:Simulating data with sampling frequency 0.1 Hz.\n",
      "INFO:Triangle.Interferometer:size = 86400\n",
      "INFO:Triangle.Interferometer:time frame is ProperTime\n",
      "INFO:Triangle.Interferometer:Noise types:\n",
      "INFO:Triangle.Interferometer:\tacc_noise\n",
      "INFO:Triangle.Interferometer:\tro_sci_c_noise\n",
      "INFO:Triangle.Interferometer:\tro_sci_sb_noise\n",
      "INFO:Triangle.Interferometer:\tro_ref_c_noise\n",
      "INFO:Triangle.Interferometer:\tro_ref_sb_noise\n",
      "INFO:Triangle.Interferometer:\tro_tm_c_noise\n",
      "INFO:Triangle.Interferometer:The simulation contains GW signal.\n"
     ]
    }
   ],
   "source": [
    "ifo = Interferometers(\n",
    "    size=size,\n",
    "    fsample=fsample,\n",
    "    time_frame='ProperTime', # the time frame of data, 'ProperTime' for the proper times of SCs, 'ClockTime' for the times of on-board clocks (with clock drifts and jitters), default is \"ProperTime\".\n",
    "    acc_noise=True, # switch of acceleration noise, default is True (this default value also applies to other noises). \n",
    "    ro_noise=True, # switch of readout noise\n",
    "    laser_noise=False, # switch of laser frequency noise \n",
    "    clock_noise=False, # switch of clock noise \n",
    "    ob_noise=False, # switch of optical bench displacement noise \n",
    "    bl_noise=False, # switch of fibre backlink noise \n",
    "    op_noise=False, # switch of optical path noise (all optical paths)\n",
    "    ranging_noise=False, # switch of pseudo ranging noise \n",
    "    modulation_noise=False, # switch of sideband modulation noise \n",
    "    orbit_class=orbit,\n",
    "    offset_class=offset,\n",
    "    noise_class=noise,\n",
    "    gw_class=gw,\n",
    "    fplan=None, \n",
    "    order=interp_order, \n",
    "    pool=pool,\n",
    "    clean_memory=True, # whether to clean some intermediate variables to save memory \n",
    "    )"
   ]
  },
  {
   "cell_type": "code",
   "execution_count": 11,
   "metadata": {},
   "outputs": [
    {
     "name": "stderr",
     "output_type": "stream",
     "text": [
      "INFO:Triangle.Interferometer:Generating basic instrumental noises.\n",
      "INFO:Triangle.Interferometer:Basic instrumental noises generated.\n",
      "INFO:Triangle.Interferometer:Generating proper times.\n",
      "INFO:Triangle.Interferometer:Proper time generated.\n",
      "INFO:Triangle.Interferometer:Generating proper delays.\n",
      "INFO:Triangle.Interferometer:Proper delays generated.\n",
      "INFO:Triangle.Interferometer:Generating clock offsets.\n",
      "INFO:Triangle.Interferometer:Clock offsets generated.\n",
      "INFO:Triangle.Interferometer:303 GW signals will be generated.\n",
      "INFO:Triangle.Interferometer:GW responses generated.\n",
      "INFO:Triangle.Interferometer:Generating unlocked sources.\n",
      "INFO:Triangle.Interferometer:unlocked sources generated.\n",
      "INFO:Triangle.Interferometer:Generating offsets.\n",
      "INFO:Triangle.Interferometer:Offsets generated.\n",
      "INFO:Triangle.Interferometer:Generating fluctuations.\n",
      "INFO:Triangle.Interferometer:Flutctuations generated.\n",
      "INFO:Triangle.Interferometer:Total measurements constructed.\n",
      "INFO:Triangle.Interferometer:Removing starting invalid points (0.0 s) and ending invalid points (0.0 s).\n",
      "INFO:Triangle.Interferometer:Invalid points removed.\n",
      "INFO:Triangle.Interferometer:Simulation completed.\n",
      "INFO:Triangle.Interferometer:Sampling frequency of data = 0.1 Hz.\n",
      "INFO:Triangle.Interferometer:Data size = 86400\n",
      "INFO:Triangle.Interferometer:Memory released.\n"
     ]
    },
    {
     "name": "stderr",
     "output_type": "stream",
     "text": [
      "INFO:Triangle.GW:Single-arm responses calculated.\n",
      "INFO:Triangle.GW:Single-arm responses calculated.\n",
      "INFO:Triangle.GW:Single-arm responses calculated.\n",
      "INFO:Triangle.GW:Single-arm responses calculated.\n",
      "INFO:Triangle.GW:Single-arm responses calculated.\n",
      "INFO:Triangle.GW:Single-arm responses calculated.\n",
      "INFO:Triangle.GW:Single-arm responses calculated.\n",
      "INFO:Triangle.GW:Single-arm responses calculated.\n",
      "INFO:Triangle.GW:Single-arm responses calculated.\n",
      "INFO:Triangle.GW:Single-arm responses calculated.\n",
      "INFO:Triangle.GW:Single-arm responses calculated.\n",
      "INFO:Triangle.GW:Single-arm responses calculated.\n",
      "INFO:Triangle.GW:Single-arm responses calculated.\n",
      "INFO:Triangle.GW:Single-arm responses calculated.\n",
      "INFO:Triangle.GW:Single-arm responses calculated.\n",
      "INFO:Triangle.GW:Single-arm responses calculated.\n",
      "INFO:Triangle.GW:Single-arm responses calculated.\n",
      "INFO:Triangle.GW:Single-arm responses calculated.\n",
      "INFO:Triangle.GW:Single-arm responses calculated.\n",
      "INFO:Triangle.GW:Single-arm responses calculated.\n",
      "INFO:Triangle.GW:Single-arm responses calculated.\n",
      "INFO:Triangle.GW:Single-arm responses calculated.\n",
      "INFO:Triangle.GW:Single-arm responses calculated.\n",
      "INFO:Triangle.GW:Single-arm responses calculated.\n",
      "INFO:Triangle.GW:Single-arm responses calculated.\n",
      "INFO:Triangle.GW:Single-arm responses calculated.\n",
      "INFO:Triangle.GW:Single-arm responses calculated.\n",
      "INFO:Triangle.GW:Single-arm responses calculated.\n",
      "INFO:Triangle.GW:Single-arm responses calculated.\n",
      "INFO:Triangle.GW:Single-arm responses calculated.\n",
      "INFO:Triangle.GW:Single-arm responses calculated.\n",
      "INFO:Triangle.GW:Single-arm responses calculated.\n",
      "INFO:Triangle.GW:Single-arm responses calculated.\n",
      "INFO:Triangle.GW:Single-arm responses calculated.\n",
      "INFO:Triangle.GW:Single-arm responses calculated.\n",
      "INFO:Triangle.GW:Single-arm responses calculated.\n",
      "INFO:Triangle.GW:Single-arm responses calculated.\n",
      "INFO:Triangle.GW:Single-arm responses calculated.\n",
      "INFO:Triangle.GW:Single-arm responses calculated.\n",
      "INFO:Triangle.GW:Single-arm responses calculated.\n",
      "INFO:Triangle.GW:Single-arm responses calculated.\n",
      "INFO:Triangle.GW:Single-arm responses calculated.\n",
      "INFO:Triangle.GW:Single-arm responses calculated.\n",
      "INFO:Triangle.GW:Single-arm responses calculated.\n",
      "INFO:Triangle.GW:Single-arm responses calculated.\n",
      "INFO:Triangle.GW:Single-arm responses calculated.\n",
      "INFO:Triangle.GW:Single-arm responses calculated.\n",
      "INFO:Triangle.GW:Single-arm responses calculated.\n",
      "INFO:Triangle.GW:Single-arm responses calculated.\n",
      "INFO:Triangle.GW:Single-arm responses calculated.\n",
      "INFO:Triangle.GW:Single-arm responses calculated.\n",
      "INFO:Triangle.GW:Single-arm responses calculated.\n",
      "INFO:Triangle.GW:Single-arm responses calculated.\n",
      "INFO:Triangle.GW:Single-arm responses calculated.\n",
      "INFO:Triangle.GW:Single-arm responses calculated.\n",
      "INFO:Triangle.GW:Single-arm responses calculated.\n",
      "INFO:Triangle.GW:Single-arm responses calculated.\n",
      "INFO:Triangle.GW:Single-arm responses calculated.\n",
      "INFO:Triangle.GW:Single-arm responses calculated.\n",
      "INFO:Triangle.GW:Single-arm responses calculated.\n",
      "INFO:Triangle.GW:Single-arm responses calculated.\n",
      "INFO:Triangle.GW:Single-arm responses calculated.\n",
      "INFO:Triangle.GW:Single-arm responses calculated.\n",
      "INFO:Triangle.GW:Single-arm responses calculated.\n",
      "INFO:Triangle.GW:Single-arm responses calculated.\n",
      "INFO:Triangle.GW:Single-arm responses calculated.\n",
      "INFO:Triangle.GW:Single-arm responses calculated.\n",
      "INFO:Triangle.GW:Single-arm responses calculated.\n",
      "INFO:Triangle.GW:Single-arm responses calculated.\n",
      "INFO:Triangle.GW:Single-arm responses calculated.\n",
      "INFO:Triangle.GW:Single-arm responses calculated.\n",
      "INFO:Triangle.GW:Single-arm responses calculated.\n",
      "INFO:Triangle.GW:Single-arm responses calculated.\n",
      "INFO:Triangle.GW:Single-arm responses calculated.\n",
      "INFO:Triangle.GW:Single-arm responses calculated.\n",
      "INFO:Triangle.GW:Single-arm responses calculated.\n",
      "INFO:Triangle.GW:Single-arm responses calculated.\n",
      "INFO:Triangle.GW:Single-arm responses calculated.\n",
      "INFO:Triangle.GW:Single-arm responses calculated.\n",
      "INFO:Triangle.GW:Single-arm responses calculated.\n",
      "INFO:Triangle.GW:Single-arm responses calculated.\n",
      "INFO:Triangle.GW:Single-arm responses calculated.\n",
      "INFO:Triangle.GW:Single-arm responses calculated.\n",
      "INFO:Triangle.GW:Single-arm responses calculated.\n",
      "INFO:Triangle.GW:Single-arm responses calculated.\n",
      "INFO:Triangle.GW:Single-arm responses calculated.\n",
      "INFO:Triangle.GW:Single-arm responses calculated.\n",
      "INFO:Triangle.GW:Single-arm responses calculated.\n",
      "INFO:Triangle.GW:Single-arm responses calculated.\n",
      "INFO:Triangle.GW:Single-arm responses calculated.\n",
      "INFO:Triangle.GW:Single-arm responses calculated.\n",
      "INFO:Triangle.GW:Single-arm responses calculated.\n",
      "INFO:Triangle.GW:Single-arm responses calculated.\n",
      "INFO:Triangle.GW:Single-arm responses calculated.\n",
      "INFO:Triangle.GW:Single-arm responses calculated.\n",
      "INFO:Triangle.GW:Single-arm responses calculated.\n",
      "INFO:Triangle.GW:Single-arm responses calculated.\n",
      "INFO:Triangle.GW:Single-arm responses calculated.\n",
      "INFO:Triangle.GW:Single-arm responses calculated.\n",
      "INFO:Triangle.GW:Single-arm responses calculated.\n",
      "INFO:Triangle.GW:Single-arm responses calculated.\n",
      "INFO:Triangle.GW:Single-arm responses calculated.\n",
      "INFO:Triangle.GW:Single-arm responses calculated.\n",
      "INFO:Triangle.GW:Single-arm responses calculated.\n",
      "INFO:Triangle.GW:Single-arm responses calculated.\n",
      "INFO:Triangle.GW:Single-arm responses calculated.\n",
      "INFO:Triangle.GW:Single-arm responses calculated.\n",
      "INFO:Triangle.GW:Single-arm responses calculated.\n",
      "INFO:Triangle.GW:Single-arm responses calculated.\n",
      "INFO:Triangle.GW:Single-arm responses calculated.\n",
      "INFO:Triangle.GW:Single-arm responses calculated.\n",
      "INFO:Triangle.GW:Single-arm responses calculated.\n",
      "INFO:Triangle.GW:Single-arm responses calculated.\n",
      "INFO:Triangle.GW:Single-arm responses calculated.\n",
      "INFO:Triangle.GW:Single-arm responses calculated.\n",
      "INFO:Triangle.GW:Single-arm responses calculated.\n",
      "INFO:Triangle.GW:Single-arm responses calculated.\n",
      "INFO:Triangle.GW:Single-arm responses calculated.\n",
      "INFO:Triangle.GW:Single-arm responses calculated.\n",
      "INFO:Triangle.GW:Single-arm responses calculated.\n",
      "INFO:Triangle.GW:Single-arm responses calculated.\n",
      "INFO:Triangle.GW:Single-arm responses calculated.\n",
      "INFO:Triangle.GW:Single-arm responses calculated.\n",
      "INFO:Triangle.GW:Single-arm responses calculated.\n",
      "INFO:Triangle.GW:Single-arm responses calculated.\n",
      "INFO:Triangle.GW:Single-arm responses calculated.\n",
      "INFO:Triangle.GW:Single-arm responses calculated.\n",
      "INFO:Triangle.GW:Single-arm responses calculated.\n",
      "INFO:Triangle.GW:Single-arm responses calculated.\n",
      "INFO:Triangle.GW:Single-arm responses calculated.\n",
      "INFO:Triangle.GW:Single-arm responses calculated.\n",
      "INFO:Triangle.GW:Single-arm responses calculated.\n",
      "INFO:Triangle.GW:Single-arm responses calculated.\n",
      "INFO:Triangle.GW:Single-arm responses calculated.\n",
      "INFO:Triangle.GW:Single-arm responses calculated.\n",
      "INFO:Triangle.GW:Single-arm responses calculated.\n",
      "INFO:Triangle.GW:Single-arm responses calculated.\n",
      "INFO:Triangle.GW:Single-arm responses calculated.\n",
      "INFO:Triangle.GW:Single-arm responses calculated.\n",
      "INFO:Triangle.GW:Single-arm responses calculated.\n",
      "INFO:Triangle.GW:Single-arm responses calculated.\n",
      "INFO:Triangle.GW:Single-arm responses calculated.\n",
      "INFO:Triangle.GW:Single-arm responses calculated.\n",
      "INFO:Triangle.GW:Single-arm responses calculated.\n",
      "INFO:Triangle.GW:Single-arm responses calculated.\n",
      "INFO:Triangle.GW:Single-arm responses calculated.\n",
      "INFO:Triangle.GW:Single-arm responses calculated.\n",
      "INFO:Triangle.GW:Single-arm responses calculated.\n",
      "INFO:Triangle.GW:Single-arm responses calculated.\n",
      "INFO:Triangle.GW:Single-arm responses calculated.\n",
      "INFO:Triangle.GW:Single-arm responses calculated.\n",
      "INFO:Triangle.GW:Single-arm responses calculated.\n",
      "INFO:Triangle.GW:Single-arm responses calculated.\n",
      "INFO:Triangle.GW:Single-arm responses calculated.\n",
      "INFO:Triangle.GW:Single-arm responses calculated.\n",
      "INFO:Triangle.GW:Single-arm responses calculated.\n",
      "INFO:Triangle.GW:Single-arm responses calculated.\n",
      "INFO:Triangle.GW:Single-arm responses calculated.\n",
      "INFO:Triangle.GW:Single-arm responses calculated.\n",
      "INFO:Triangle.GW:Single-arm responses calculated.\n",
      "INFO:Triangle.GW:Single-arm responses calculated.\n",
      "INFO:Triangle.GW:Single-arm responses calculated.\n",
      "INFO:Triangle.GW:Single-arm responses calculated.\n",
      "INFO:Triangle.GW:Single-arm responses calculated.\n",
      "INFO:Triangle.GW:Single-arm responses calculated.\n",
      "INFO:Triangle.GW:Single-arm responses calculated.\n",
      "INFO:Triangle.GW:Single-arm responses calculated.\n",
      "INFO:Triangle.GW:Single-arm responses calculated.\n",
      "INFO:Triangle.GW:Single-arm responses calculated.\n",
      "INFO:Triangle.GW:Single-arm responses calculated.\n",
      "INFO:Triangle.GW:Single-arm responses calculated.\n",
      "INFO:Triangle.GW:Single-arm responses calculated.\n",
      "INFO:Triangle.GW:Single-arm responses calculated.\n",
      "INFO:Triangle.GW:Single-arm responses calculated.\n",
      "INFO:Triangle.GW:Single-arm responses calculated.\n",
      "INFO:Triangle.GW:Single-arm responses calculated.\n",
      "INFO:Triangle.GW:Single-arm responses calculated.\n",
      "INFO:Triangle.GW:Single-arm responses calculated.\n",
      "INFO:Triangle.GW:Single-arm responses calculated.\n",
      "INFO:Triangle.GW:Single-arm responses calculated.\n",
      "INFO:Triangle.GW:Single-arm responses calculated.\n",
      "INFO:Triangle.GW:Single-arm responses calculated.\n",
      "INFO:Triangle.GW:Single-arm responses calculated.\n",
      "INFO:Triangle.GW:Single-arm responses calculated.\n",
      "INFO:Triangle.GW:Single-arm responses calculated.\n",
      "INFO:Triangle.GW:Single-arm responses calculated.\n",
      "INFO:Triangle.GW:Single-arm responses calculated.\n",
      "INFO:Triangle.GW:Single-arm responses calculated.\n",
      "INFO:Triangle.GW:Single-arm responses calculated.\n",
      "INFO:Triangle.GW:Single-arm responses calculated.\n",
      "INFO:Triangle.GW:Single-arm responses calculated.\n",
      "INFO:Triangle.GW:Single-arm responses calculated.\n",
      "INFO:Triangle.GW:Single-arm responses calculated.\n",
      "INFO:Triangle.GW:Single-arm responses calculated.\n",
      "INFO:Triangle.GW:Single-arm responses calculated.\n",
      "INFO:Triangle.GW:Single-arm responses calculated.\n",
      "INFO:Triangle.GW:Single-arm responses calculated.\n",
      "INFO:Triangle.GW:Single-arm responses calculated.\n",
      "INFO:Triangle.GW:Single-arm responses calculated.\n",
      "INFO:Triangle.GW:Single-arm responses calculated.\n",
      "INFO:Triangle.GW:Single-arm responses calculated.\n",
      "INFO:Triangle.GW:Single-arm responses calculated.\n",
      "INFO:Triangle.GW:Single-arm responses calculated.\n",
      "INFO:Triangle.GW:Single-arm responses calculated.\n",
      "INFO:Triangle.GW:Single-arm responses calculated.\n",
      "INFO:Triangle.GW:Single-arm responses calculated.\n",
      "INFO:Triangle.GW:Single-arm responses calculated.\n",
      "INFO:Triangle.GW:Single-arm responses calculated.\n",
      "INFO:Triangle.GW:Single-arm responses calculated.\n",
      "INFO:Triangle.GW:Single-arm responses calculated.\n",
      "INFO:Triangle.GW:Single-arm responses calculated.\n",
      "INFO:Triangle.GW:Single-arm responses calculated.\n",
      "INFO:Triangle.GW:Single-arm responses calculated.\n",
      "INFO:Triangle.GW:Single-arm responses calculated.\n",
      "INFO:Triangle.GW:Single-arm responses calculated.\n",
      "INFO:Triangle.GW:Single-arm responses calculated.\n",
      "INFO:Triangle.GW:Single-arm responses calculated.\n",
      "INFO:Triangle.GW:Single-arm responses calculated.\n",
      "INFO:Triangle.GW:Single-arm responses calculated.\n",
      "INFO:Triangle.GW:Single-arm responses calculated.\n",
      "INFO:Triangle.GW:Single-arm responses calculated.\n",
      "INFO:Triangle.GW:Single-arm responses calculated.\n",
      "INFO:Triangle.GW:Single-arm responses calculated.\n",
      "INFO:Triangle.GW:Single-arm responses calculated.\n",
      "INFO:Triangle.GW:Single-arm responses calculated.\n",
      "INFO:Triangle.GW:Single-arm responses calculated.\n",
      "INFO:Triangle.GW:Single-arm responses calculated.\n",
      "INFO:Triangle.GW:Single-arm responses calculated.\n",
      "INFO:Triangle.GW:Single-arm responses calculated.\n",
      "INFO:Triangle.GW:Single-arm responses calculated.\n",
      "INFO:Triangle.GW:Single-arm responses calculated.\n",
      "INFO:Triangle.GW:Single-arm responses calculated.\n",
      "INFO:Triangle.GW:Single-arm responses calculated.\n",
      "INFO:Triangle.GW:Single-arm responses calculated.\n",
      "INFO:Triangle.GW:Single-arm responses calculated.\n",
      "INFO:Triangle.GW:Single-arm responses calculated.\n",
      "INFO:Triangle.GW:Single-arm responses calculated.\n",
      "INFO:Triangle.GW:Single-arm responses calculated.\n",
      "INFO:Triangle.GW:Single-arm responses calculated.\n",
      "INFO:Triangle.GW:Single-arm responses calculated.\n",
      "INFO:Triangle.GW:Single-arm responses calculated.\n",
      "INFO:Triangle.GW:Single-arm responses calculated.\n",
      "INFO:Triangle.GW:Single-arm responses calculated.\n",
      "INFO:Triangle.GW:Single-arm responses calculated.\n",
      "INFO:Triangle.GW:Single-arm responses calculated.\n",
      "INFO:Triangle.GW:Single-arm responses calculated.\n",
      "INFO:Triangle.GW:Single-arm responses calculated.\n",
      "INFO:Triangle.GW:Single-arm responses calculated.\n",
      "INFO:Triangle.GW:Single-arm responses calculated.\n",
      "INFO:Triangle.GW:Single-arm responses calculated.\n",
      "INFO:Triangle.GW:Single-arm responses calculated.\n",
      "INFO:Triangle.GW:Single-arm responses calculated.\n",
      "INFO:Triangle.GW:Single-arm responses calculated.\n",
      "INFO:Triangle.GW:Single-arm responses calculated.\n",
      "INFO:Triangle.GW:Single-arm responses calculated.\n",
      "INFO:Triangle.GW:Single-arm responses calculated.\n",
      "INFO:Triangle.GW:Single-arm responses calculated.\n",
      "INFO:Triangle.GW:Single-arm responses calculated.\n",
      "INFO:Triangle.GW:Single-arm responses calculated.\n",
      "INFO:Triangle.GW:Single-arm responses calculated.\n",
      "INFO:Triangle.GW:Single-arm responses calculated.\n",
      "INFO:Triangle.GW:Single-arm responses calculated.\n",
      "INFO:Triangle.GW:Single-arm responses calculated.\n",
      "INFO:Triangle.GW:Single-arm responses calculated.\n",
      "INFO:Triangle.GW:Single-arm responses calculated.\n",
      "INFO:Triangle.GW:Single-arm responses calculated.\n",
      "INFO:Triangle.GW:Single-arm responses calculated.\n",
      "INFO:Triangle.GW:Single-arm responses calculated.\n",
      "INFO:Triangle.GW:Single-arm responses calculated.\n",
      "INFO:Triangle.GW:Single-arm responses calculated.\n",
      "INFO:Triangle.GW:Single-arm responses calculated.\n",
      "INFO:Triangle.GW:Single-arm responses calculated.\n",
      "INFO:Triangle.GW:Single-arm responses calculated.\n",
      "INFO:Triangle.GW:Single-arm responses calculated.\n",
      "INFO:Triangle.GW:Single-arm responses calculated.\n",
      "INFO:Triangle.GW:Single-arm responses calculated.\n",
      "INFO:Triangle.GW:Single-arm responses calculated.\n",
      "INFO:Triangle.GW:Single-arm responses calculated.\n",
      "INFO:Triangle.GW:Single-arm responses calculated.\n",
      "INFO:Triangle.GW:Single-arm responses calculated.\n",
      "INFO:Triangle.GW:Single-arm responses calculated.\n",
      "INFO:Triangle.GW:Single-arm responses calculated.\n",
      "INFO:Triangle.GW:Single-arm responses calculated.\n",
      "INFO:Triangle.GW:Single-arm responses calculated.\n",
      "INFO:Triangle.GW:Single-arm responses calculated.\n",
      "INFO:Triangle.GW:Single-arm responses calculated.\n",
      "INFO:Triangle.GW:Single-arm responses calculated.\n",
      "INFO:Triangle.GW:Single-arm responses calculated.\n",
      "INFO:Triangle.GW:Single-arm responses calculated.\n",
      "INFO:Triangle.GW:Single-arm responses calculated.\n",
      "INFO:Triangle.GW:Single-arm responses calculated.\n",
      "INFO:Triangle.GW:Single-arm responses calculated.\n",
      "INFO:Triangle.GW:Single-arm responses calculated.\n",
      "INFO:Triangle.GW:Single-arm responses calculated.\n",
      "INFO:Triangle.GW:Single-arm responses calculated.\n",
      "INFO:Triangle.GW:Single-arm responses calculated.\n",
      "INFO:Triangle.GW:Single-arm responses calculated.\n",
      "INFO:Triangle.GW:Single-arm responses calculated.\n",
      "INFO:Triangle.GW:Single-arm responses calculated.\n",
      "INFO:Triangle.GW:Single-arm responses calculated.\n",
      "INFO:Triangle.GW:Single-arm responses calculated.\n",
      "INFO:Triangle.GW:Single-arm responses calculated.\n",
      "INFO:Triangle.GW:Single-arm responses calculated.\n"
     ]
    },
    {
     "data": {
      "text/plain": [
       "dict_keys(['time', 'fsample', 'ltt', 'sci_c', 'sci_sb', 'ref_c', 'ref_sb', 'tm_c', 'a', 'b'])"
      ]
     },
     "execution_count": 11,
     "metadata": {},
     "output_type": "execute_result"
    }
   ],
   "source": [
    "if default_noise:\n",
    "    # simulate interferometric measurements \n",
    "    ifo.SimulateInterferometers()\n",
    "    \n",
    "else:\n",
    "    # break the ifo.SimulateInterferometer() function into steps so that we can modify the intermediate variables \n",
    "    ifo.SimulateBasicNoise()\n",
    "\n",
    "    # as an example, you can modify the amplitudes of inter-spacecraft interferometer's readout noises here \n",
    "    for key in MOSA_labels:\n",
    "        ifo.BasicNoise['ro_sci_c_noise'][key] *= np.random.uniform(1.5, 2.5)\n",
    "          \n",
    "    ifo.SimulateRangeAndClock()\n",
    "\n",
    "    # you also can add a glitch to the acceleration noise of test-mass 12 here \n",
    "    TM_idx = \"12\" # the index of TM where glitch happens \n",
    "    glitch = Glitch(fsample=ifo.fsample)\n",
    "    glitch_simulation_time = ifo.proper_time[TM_idx[0]] # generate glitch according to the proper time of spacecraft 1 \n",
    "    glitch_injection_time = 100000. # set injection time \n",
    "    short_glitch_acc = glitch.LPF_legacy_glitch_model(t=glitch_simulation_time, t0=glitch_injection_time, **glitch.short_glitch_kwargs) # generate glitch in the acceleration unit \n",
    "    short_glitch_ffd = glitch.acc2ffd(short_glitch_acc) # convert to the fractional frequency difference unit, which is the default unit of BasicNoise[\"acc_noise\"]\n",
    "    ifo.BasicNoise['acc_noise'][TM_idx] += short_glitch_ffd # inject glitch \n",
    "\n",
    "    if ifo.gw_flag:\n",
    "        ifo.SimulateGW()\n",
    "    ifo.SimulateMeasurements()\n",
    "\n",
    "# output simulation results to a directionary \n",
    "m = ifo.OutputMeasurements(mode='decomposed') \n",
    "\n",
    "# synchronize to TCB  \n",
    "m1 = TPStoTCB(m, orbit_class=orbit, order=interp_order, pool=pool)\n",
    "\n",
    "ifo.clean()\n",
    "m1.keys()"
   ]
  },
  {
   "cell_type": "markdown",
   "metadata": {},
   "source": [
    "## Simulate TDI processing"
   ]
  },
  {
   "cell_type": "code",
   "execution_count": 12,
   "metadata": {},
   "outputs": [
    {
     "data": {
      "text/plain": [
       "dict_keys(['time', 'fsample', 'ltt', 'sci_c', 'sci_sb', 'ref_c', 'ref_sb', 'tm_c', 'a', 'b', 'dpl', 'xi', 'eta', 'X0', 'X1', 'X2', 'Y0', 'Y1', 'Y2', 'Z0', 'Z1', 'Z2', 'A0', 'E0', 'T0', 'A1', 'E1', 'T1', 'A2', 'E2', 'T2'])"
      ]
     },
     "execution_count": 12,
     "metadata": {},
     "output_type": "execute_result"
    }
   ],
   "source": [
    "# initialize TDI with the input data  \n",
    "tdi_interp_order = 31 # the order of lagrange interpolation, default is 31. \n",
    "tdi = TDI(measurements=m1, delays=m1['ltt'], fsample=m1['fsample'], order=tdi_interp_order)\n",
    "\n",
    "# calculate \\xi_ij, the doppler argument decides whether to use the doppler delay operator \n",
    "tdi.CalculateXi(doppler=True, pool=pool)\n",
    "\n",
    "# calculate \\eta_ij \n",
    "tdi.CalculateEta(doppler=True)\n",
    "\n",
    "if TDI_method == 'fast_michelson': # channel = \"X\", \"XYZ\", or \"AET\"\n",
    "    tdi.FastMichelson(doppler=True, channel='AET') \n",
    "\n",
    "elif TDI_method == 'channel_name': # only valid for \"X1\", \"X2\", \"alpha1\", \"alpha2\"\n",
    "    tdi.CalculateBasicTDI(channel='X2', doppler=True, channel_name='X2')\n",
    "    \n",
    "elif TDI_method == 'channel_path': # e.g. ['121313121', '131212131'] for X2. Y2 and Z2 can be obtained by the permutation rule: 1->2, 2->3, 3->1\n",
    "    tdi.CalculateBasicTDI(channel=['121313121', '131212131'], doppler=True, channel_name='X2')\n",
    "\n",
    "elif TDI_method == 'channel_operator':\n",
    "    # \"ij\" represents the delay operator D_{ij}, while \"-ij\" stands for the corresponding \"advance\" operator A_{ij}\n",
    "    # X2 can be constructed from the following opeator. Y2 and Z2 can be obtained by the permutation rule: 1->2, 2->3, 3->1\n",
    "    X2_string = {\n",
    "        \"12\": [(1., []), (-1., [\"13\", \"31\"]), (-1., [\"13\", \"31\", \"12\", \"21\"]), (1., [\"12\", \"21\", \"13\", \"31\", \"13\", \"31\"])], \n",
    "        \"23\": [], \n",
    "        \"31\": [(-1., [\"13\"]), (1., [\"12\", \"21\", \"13\"]), (1., [\"12\", \"21\", \"13\", \"31\", \"13\"]), (-1., [\"13\", \"31\", \"12\", \"21\", \"12\", \"21\", \"13\"])], \n",
    "        \"21\": [(1., [\"12\"]), (-1., [\"13\", \"31\", \"12\"]), (-1., [\"13\", \"31\", \"12\", \"21\", \"12\"]), (1., [\"12\", \"21\", \"13\", \"31\", \"13\", \"31\", \"12\"])], \n",
    "        \"32\": [], \n",
    "        \"13\": [(-1., []), (1., [\"12\", \"21\"]), (1., [\"12\", \"21\", \"13\", \"31\"]), (-1., [\"13\", \"31\", \"12\", \"21\", \"12\", \"21\"])], \n",
    "    }\n",
    "    X2 = tdi.CalculateTDIFromPStrings(X2_string, doppler=True)\n",
    "    tdi.measurements[\"X2\"] = X2  \n",
    "\n",
    "tdi.measurements.keys()"
   ]
  },
  {
   "cell_type": "markdown",
   "metadata": {},
   "source": [
    "### plot in time domain \n",
    "the time-domain plot shows a significant peak at the merger time of MBHB signal "
   ]
  },
  {
   "cell_type": "code",
   "execution_count": 13,
   "metadata": {},
   "outputs": [
    {
     "data": {
      "image/png": "[encoded data removed]",
      "text/plain": [
       "<Figure size 1000x500 with 1 Axes>"
      ]
     },
     "metadata": {},
     "output_type": "display_data"
    }
   ],
   "source": [
    "plt.figure(figsize=(10, 5))\n",
    "for channel_name in [\"A2\", \"E2\", \"T2\"]:\n",
    "    plot_data = tdi.measurements[channel_name][100:-100]/F_LASER\n",
    "    plot_time = np.arange(len(plot_data)) / fsample / DAY\n",
    "    plt.plot(plot_time, plot_data, label=channel_name, linewidth=1)\n",
    "plt.xlabel(\"Time (day)\")\n",
    "plt.ylabel(\"TDI\")\n",
    "plt.legend(loc=\"upper right\")\n",
    "plt.grid(linestyle=\":\")"
   ]
  },
  {
   "cell_type": "markdown",
   "metadata": {},
   "source": [
    "### plot in frequency domain \n",
    "the frequency-domain plot shows a peak at the initial frequency of GB. "
   ]
  },
  {
   "cell_type": "code",
   "execution_count": 14,
   "metadata": {},
   "outputs": [
    {
     "data": {
      "image/png": "[encoded data removed]",
      "text/plain": [
       "<Figure size 700x500 with 1 Axes>"
      ]
     },
     "metadata": {},
     "output_type": "display_data"
    }
   ],
   "source": [
    "plt.figure(figsize=(7, 5))\n",
    "for channel_name in [\"A2\", \"E2\", \"T2\"]:\n",
    "    plot_data = tdi.measurements[channel_name][100:-100] / F_LASER\n",
    "    ff, xf = PSD_window(plot_data, fsample=fsample, nbin=1, window_type=\"hann\")\n",
    "    plt.loglog(ff, np.sqrt(xf), label=channel_name, linewidth=1)\n",
    "    \n",
    "plt.xlabel(\"Frequency (Hz)\")\n",
    "plt.ylabel(r\"${\\rm ASD}(f) \\ ({\\rm Hz}^{-1/2}) $\")\n",
    "plt.legend(loc=\"upper left\")\n",
    "plt.xlim(1e-4, 0.05)\n",
    "plt.grid(linestyle=\":\")"
   ]
  },
  {
   "cell_type": "markdown",
   "metadata": {},
   "source": [
    "## A faster implementation for the idealistic TDI response of GW signals \n",
    "In ``Triangle``, there is also a faster calculator for the TDI response of GW signals called ``GeneralTDIResponse``. In this implementation we neglect all the instrumental noises and imperfections, and assume all the results are prefectly synchronized to TCB. The speed of calculation can be further boosted by parallel on CPU or GPU (GPU acceleration is currently only available for GB waveforms). The TDI scheme is specified by $\\bm{\\rm P}_{ij}$ strings. "
   ]
  },
  {
   "cell_type": "code",
   "execution_count": 46,
   "metadata": {},
   "outputs": [],
   "source": [
    "# set the TCB times of resulting TDI responses\n",
    "Tobs = 110 * DAY\n",
    "dt = 10. \n",
    "tcb_times = np.arange(int(Tobs / dt)) * dt  \n",
    "\n",
    "orbit = Orbit(OrbitDir='../OrbitData/MicroSateOrbitEclipticTCB')\n",
    "\n",
    "# still, we use 2nd-generation X channel for example \n",
    "X2_string = {\n",
    "    \"12\": [(1., []), (-1., [\"13\", \"31\"]), (-1., [\"13\", \"31\", \"12\", \"21\"]), (1., [\"12\", \"21\", \"13\", \"31\", \"13\", \"31\"])], \n",
    "    \"23\": [], \n",
    "    \"31\": [(-1., [\"13\"]), (1., [\"12\", \"21\", \"13\"]), (1., [\"12\", \"21\", \"13\", \"31\", \"13\"]), (-1., [\"13\", \"31\", \"12\", \"21\", \"12\", \"21\", \"13\"])], \n",
    "    \"21\": [(1., [\"12\"]), (-1., [\"13\", \"31\", \"12\"]), (-1., [\"13\", \"31\", \"12\", \"21\", \"12\"]), (1., [\"12\", \"21\", \"13\", \"31\", \"13\", \"31\", \"12\"])], \n",
    "    \"32\": [], \n",
    "    \"13\": [(-1., []), (1., [\"12\", \"21\"]), (1., [\"12\", \"21\", \"13\", \"31\"]), (-1., [\"13\", \"31\", \"12\", \"21\", \"12\", \"21\"])], \n",
    "}"
   ]
  },
  {
   "cell_type": "markdown",
   "metadata": {},
   "source": [
    "#### 1) for GB waveforms "
   ]
  },
  {
   "cell_type": "code",
   "execution_count": 47,
   "metadata": {},
   "outputs": [],
   "source": [
    "# Create a generator for the unprojected waveforms\n",
    "gb_waveform_generator = GB_Injection(use_gpu=False)\n",
    "# Create a generator for the TDI responses. The initialization takes a few time, but it only needs to be run once. \n",
    "# Interpolation is used dfferently from the Interferometer and TDI modules. For GBs, linear interpolation is accurate even for high frequency sources. \n",
    "# While we recommand linear_interp = False for complex waveforms such as MBHBs and EMRIs.\n",
    "gb_response_generator = GeneralTDIResponse(\n",
    "    waveform_generator=gb_waveform_generator, \n",
    "    orbit=orbit, \n",
    "    Pstring=X2_string, \n",
    "    tcb_times=tcb_times, \n",
    "    use_gpu=False, \n",
    "    drop_points=100,\n",
    "    linear_interp=True,\n",
    "    )"
   ]
  },
  {
   "cell_type": "markdown",
   "metadata": {},
   "source": [
    "#### Compute TDI responses in parallel on CPU\n",
    "Using linear interpolation, it takes ~13 s on a macbook with m3pro chip to generate 100 GBs (0.13 s per GB on average). \n",
    "Setting linear_interp=False would increase the total computation time to 36 s."
   ]
  },
  {
   "cell_type": "code",
   "execution_count": 48,
   "metadata": {},
   "outputs": [],
   "source": [
    "GB_params = {\n",
    "    'A': 1.52072235e-22,\n",
    "    'f0': 0.00261367,\n",
    "    'fdot0': 3.34732748e-17,\n",
    "    'phase0': 3.42918555,\n",
    "    'inclination': 1.5166699,\n",
    "    'longitude': 1.7686,\n",
    "    'latitude': 0.10127302,\n",
    "    'psi': 0.94753924\n",
    "    }\n",
    "\n",
    "# generate multiple sources and make them distinct \n",
    "N_GB = 100\n",
    "GB_params_list = [GB_params for _ in range(N_GB)]\n",
    "for i_GB in range(N_GB): \n",
    "    GB_params_list[i_GB][\"f0\"] = np.random.uniform(1e-4, 1e-2) \n",
    "    GB_params_list[i_GB][\"longitude\"] = np.random.uniform(0, TWOPI) \n",
    "    GB_params_list[i_GB][\"latitude\"] = np.arcsin(np.random.uniform(-1, 1)) "
   ]
  },
  {
   "cell_type": "code",
   "execution_count": 49,
   "metadata": {},
   "outputs": [],
   "source": [
    "def gb_response_wrapper(params):\n",
    "    res = gb_response_generator(parameters=params)\n",
    "    return res \n",
    "\n",
    "if __name__ == \"__main__\":\n",
    "    with multiprocessing.Pool(processes=multiprocessing.cpu_count()) as pool:  \n",
    "        results = pool.map(gb_response_wrapper, GB_params_list)"
   ]
  },
  {
   "cell_type": "markdown",
   "metadata": {},
   "source": [
    "#### 2) for MBHB waveforms "
   ]
  },
  {
   "cell_type": "code",
   "execution_count": 50,
   "metadata": {},
   "outputs": [],
   "source": [
    "mbhb_waveform_generator = MBHB_Injection(approx_method=\"SEOBNRv4_opt\")\n",
    "mbhb_response_generator = GeneralTDIResponse(\n",
    "    waveform_generator=mbhb_waveform_generator, \n",
    "    orbit=orbit, \n",
    "    Pstring=X2_string, \n",
    "    tcb_times=tcb_times, \n",
    "    use_gpu=False, \n",
    "    drop_points=100,\n",
    "    linear_interp=False, \n",
    ")"
   ]
  },
  {
   "cell_type": "code",
   "execution_count": 51,
   "metadata": {},
   "outputs": [],
   "source": [
    "MBHB_params = {\n",
    "    \"chirp_mass\": 400000.0, \n",
    "    \"mass_ratio\": 0.3640815267051051, \n",
    "    \"spin_1z\": 0.7899406190510447, \n",
    "    \"spin_2z\": 0.015424596359292053, \n",
    "    \"coalescence_time\": 25., \n",
    "    \"coalescence_phase\": 3.2535342675592966, \n",
    "    \"luminosity_distance\": 106039.10941463517, \n",
    "    \"inclination\": 1.4495086550199021, \n",
    "    \"longitude\": 3.032776598141215, \n",
    "    \"latitude\": -1.1817968279048852, \n",
    "    \"psi\": 0.2409146690555858,\n",
    "}"
   ]
  },
  {
   "cell_type": "code",
   "execution_count": 52,
   "metadata": {},
   "outputs": [],
   "source": [
    "results = mbhb_response_generator(parameters=MBHB_params)"
   ]
  },
  {
   "cell_type": "code",
   "execution_count": null,
   "metadata": {},
   "outputs": [],
   "source": []
  }
 ],
 "metadata": {
  "kernelspec": {
   "display_name": "triangle",
   "language": "python",
   "name": "python3"
  },
  "language_info": {
   "codemirror_mode": {
    "name": "ipython",
    "version": 3
   },
   "file_extension": ".py",
   "mimetype": "text/x-python",
   "name": "python",
   "nbconvert_exporter": "python",
   "pygments_lexer": "ipython3",
   "version": "3.9.21"
  }
 },
 "nbformat": 4,
 "nbformat_minor": 2
}
