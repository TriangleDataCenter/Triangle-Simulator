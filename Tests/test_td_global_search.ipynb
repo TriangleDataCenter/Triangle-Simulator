{
 "cells": [
  {
   "cell_type": "code",
   "execution_count": 1,
   "id": "1591973e",
   "metadata": {},
   "outputs": [],
   "source": [
    "# limit the thread used by numpy for better parallelization\n",
    "import os\n",
    "\n",
    "os.environ[\"OMP_NUM_THREADS\"] = \"1\"\n",
    "os.environ[\"OPENBLAS_NUM_THREADS\"] = \"1\"\n",
    "os.environ[\"MKL_NUM_THREADS\"] = \"1\"\n",
    "os.environ[\"NUMEXPR_NUM_THREADS\"] = \"1\"\n",
    "os.environ[\"VECLIB_MAXIMUM_THREADS\"] = \"1\"\n",
    "os.environ[\"MKL_NUM_THREADS\"] = \"1\""
   ]
  },
  {
   "cell_type": "code",
   "execution_count": 2,
   "id": "78f109ff",
   "metadata": {},
   "outputs": [
    {
     "name": "stdout",
     "output_type": "stream",
     "text": [
      "no cupy \n"
     ]
    },
    {
     "name": "stderr",
     "output_type": "stream",
     "text": [
      "PyCBC.libutils: pkg-config call failed, setting NO_PKGCONFIG=1\n"
     ]
    },
    {
     "name": "stdout",
     "output_type": "stream",
     "text": [
      "no cupy\n",
      "No CuPy or GPU PhenomHM module.\n",
      "has BBHx waveform\n",
      "number of cpus = 12\n"
     ]
    }
   ],
   "source": [
    "import numpy as np\n",
    "import matplotlib.pyplot as plt\n",
    "\n",
    "from Triangle.Constants import *\n",
    "from Triangle.FFTTools import *\n",
    "from Triangle.Noise import *\n",
    "from Triangle.Orbit import *\n",
    "from Triangle.Data import *\n",
    "from Triangle.Interferometer import *\n",
    "from Triangle.TDI import *\n",
    "from Triangle.Glitch import *\n",
    "from Triangle.GW import *\n",
    "\n",
    "from Triangle_BBH.Utils import ParamDict2ParamArr, ParamArr2ParamDict\n",
    "from scipy.optimize import differential_evolution\n",
    "\n",
    "import matplotlib\n",
    "matplotlib.rcParams['text.usetex'] = True\n",
    "matplotlib.rcParams['font.family'] = 'serif'\n",
    "\n",
    "import multiprocessing\n",
    "if __name__ == \"__main__\":\n",
    "    multiprocessing.set_start_method(\"fork\")\n",
    "print(\"number of cpus =\", multiprocessing.cpu_count())\n",
    "# pool = multiprocessing.Pool(processes=multiprocessing.cpu_count())"
   ]
  },
  {
   "cell_type": "markdown",
   "id": "dc38f742",
   "metadata": {},
   "source": [
    "## Load data"
   ]
  },
  {
   "cell_type": "code",
   "execution_count": 3,
   "id": "61382800",
   "metadata": {},
   "outputs": [
    {
     "data": {
      "text/plain": [
       "dict_keys(['XYZ', 'time'])"
      ]
     },
     "execution_count": 3,
     "metadata": {},
     "output_type": "execute_result"
    }
   ],
   "source": [
    "h5filename = \"/Volumes/RubbishBin/TDCII_Data/2_SingleSource_Dataset/data/MBHB_EOBv4opt_TDIXYZ_clean.h5\"\n",
    "with h5py.File(h5filename, \"r\") as h5file:\n",
    "    data_dict = read_dict_from_h5(h5file[\"/\"])\n",
    "data_dict.keys()"
   ]
  },
  {
   "cell_type": "code",
   "execution_count": 4,
   "id": "8f5e97d9",
   "metadata": {},
   "outputs": [
    {
     "data": {
      "text/plain": [
       "dict_keys(['chirp_mass', 'coalescence_phase', 'coalescence_time', 'inclination', 'latitude', 'longitude', 'luminosity_distance', 'mass_ratio', 'psi', 'spin_1z', 'spin_2z'])"
      ]
     },
     "execution_count": 4,
     "metadata": {},
     "output_type": "execute_result"
    }
   ],
   "source": [
    "h5paramfilename = \"/Volumes/RubbishBin/TDCII_Data/2_SingleSource_Dataset/data/MBHB_EOB4opt_parameters.h5\"\n",
    "with h5py.File(h5paramfilename, \"r\") as h5file:\n",
    "    parameters = read_dict_from_h5(h5file[\"/\"])\n",
    "parameters.keys()"
   ]
  },
  {
   "cell_type": "code",
   "execution_count": 5,
   "id": "97106a38",
   "metadata": {},
   "outputs": [
    {
     "data": {
      "text/plain": [
       "((6294349,), (3, 6294349))"
      ]
     },
     "execution_count": 5,
     "metadata": {},
     "output_type": "execute_result"
    }
   ],
   "source": [
    "channel_names = list(data_dict[\"XYZ\"].keys())\n",
    "data_channels = []\n",
    "for ch in channel_names: \n",
    "    data_channels.append(data_dict[\"XYZ\"][ch])\n",
    "data_channels = np.array(data_channels)\n",
    "data_time = data_dict[\"time\"]\n",
    "dt = data_time[1] - data_time[0]\n",
    "\n",
    "data_time.shape, data_channels.shape "
   ]
  },
  {
   "cell_type": "code",
   "execution_count": 6,
   "id": "0748c5c9",
   "metadata": {},
   "outputs": [
    {
     "data": {
      "image/png": "[encoded data removed]",
      "text/plain": [
       "<Figure size 640x480 with 1 Axes>"
      ]
     },
     "metadata": {},
     "output_type": "display_data"
    }
   ],
   "source": [
    "for ich, ch in enumerate(channel_names): \n",
    "    plt.plot(data_time/DAY, data_channels[ich], label=ch, linewidth=1)\n",
    "plt.xlabel(\"Time (day)\")\n",
    "plt.ylabel(\"TDI\")\n",
    "plt.legend(loc=\"upper right\")\n",
    "plt.grid(linestyle=\"-\", which=\"major\", alpha=0.5)\n",
    "plt.grid(linestyle=\":\", which=\"minor\", alpha=0.4)"
   ]
  },
  {
   "cell_type": "markdown",
   "id": "654e1e12",
   "metadata": {},
   "source": [
    "## Slice data "
   ]
  },
  {
   "cell_type": "code",
   "execution_count": 7,
   "id": "fd6ffd7b",
   "metadata": {},
   "outputs": [],
   "source": [
    "T_analyze = 5 * DAY \n",
    "T_pad_before = 1 * DAY \n",
    "T_pad_end = 1 * DAY "
   ]
  },
  {
   "cell_type": "code",
   "execution_count": 8,
   "id": "51868fdc",
   "metadata": {},
   "outputs": [
    {
     "data": {
      "text/plain": [
       "((120961,), (3, 120961), 338.0, 345.0)"
      ]
     },
     "execution_count": 8,
     "metadata": {},
     "output_type": "execute_result"
    }
   ],
   "source": [
    "# prior of tc: start_time -> end_time \n",
    "# data time: start_pad_time -> end_pad_time \n",
    "start_time = 339. * DAY \n",
    "start_pad_time = start_time - T_pad_before\n",
    "end_time = start_time + T_analyze\n",
    "end_pad_time = end_time + T_pad_end \n",
    "\n",
    "# slice data \n",
    "idx_slice = np.where((data_time>=start_pad_time)&(data_time<=end_pad_time))[0]\n",
    "time_slice = data_time[idx_slice]\n",
    "data_slice = data_channels[:, idx_slice]\n",
    "\n",
    "time_slice.shape, data_slice.shape, time_slice[0]/DAY, time_slice[-1]/DAY "
   ]
  },
  {
   "cell_type": "code",
   "execution_count": 9,
   "id": "f5f980a0",
   "metadata": {},
   "outputs": [
    {
     "data": {
      "text/plain": [
       "<matplotlib.legend.Legend at 0x12a8ca280>"
      ]
     },
     "execution_count": 9,
     "metadata": {},
     "output_type": "execute_result"
    },
    {
     "data": {
      "image/png": "[encoded data removed]",
      "text/plain": [
       "<Figure size 640x480 with 1 Axes>"
      ]
     },
     "metadata": {},
     "output_type": "display_data"
    }
   ],
   "source": [
    "for ich, ch in enumerate(channel_names): \n",
    "    plt.plot(time_slice/DAY, data_slice[ich], label=ch, linewidth=1)\n",
    "plt.xlabel(\"Time (day)\")\n",
    "plt.ylabel(\"TDI\")\n",
    "plt.legend(loc=\"upper right\")"
   ]
  },
  {
   "cell_type": "markdown",
   "id": "c859625e",
   "metadata": {},
   "source": [
    "## Load truths for comparison "
   ]
  },
  {
   "cell_type": "code",
   "execution_count": 10,
   "id": "06e1ed3a",
   "metadata": {},
   "outputs": [
    {
     "data": {
      "text/plain": [
       "{'chirp_mass': array([1647214.56120374]),\n",
       " 'coalescence_phase': array([3.63629981]),\n",
       " 'coalescence_time': array([343.78579201]),\n",
       " 'inclination': array([1.02484815]),\n",
       " 'latitude': array([-0.7932944]),\n",
       " 'longitude': array([2.40779058]),\n",
       " 'luminosity_distance': array([118095.40954935]),\n",
       " 'mass_ratio': array([0.26150338]),\n",
       " 'psi': array([0.15552461]),\n",
       " 'spin_1z': array([-0.863535]),\n",
       " 'spin_2z': array([0.358075])}"
      ]
     },
     "execution_count": 10,
     "metadata": {},
     "output_type": "execute_result"
    }
   ],
   "source": [
    "# load source parameters for comparison \n",
    "mbhb_idx = np.where((parameters[\"coalescence_time\"]*DAY >= start_time)&(parameters[\"coalescence_time\"]*DAY <= end_time))[0]\n",
    "mbhb_parameters = dict()\n",
    "for k, v in parameters.items():\n",
    "    mbhb_parameters[k] = v[mbhb_idx]\n",
    "mbhb_parameters"
   ]
  },
  {
   "cell_type": "code",
   "execution_count": 11,
   "id": "338508e6",
   "metadata": {},
   "outputs": [
    {
     "data": {
      "text/plain": [
       "[{'chirp_mass': 1647214.5612037403,\n",
       "  'coalescence_phase': 3.6362998076974224,\n",
       "  'coalescence_time': 343.78579200942505,\n",
       "  'inclination': 1.0248481459506331,\n",
       "  'latitude': -0.7932943951846011,\n",
       "  'longitude': 2.4077905790008907,\n",
       "  'luminosity_distance': 118095.40954934724,\n",
       "  'mass_ratio': 0.26150337506956906,\n",
       "  'psi': 0.155524611136627,\n",
       "  'spin_1z': -0.863535,\n",
       "  'spin_2z': 0.358075}]"
      ]
     },
     "execution_count": 11,
     "metadata": {},
     "output_type": "execute_result"
    }
   ],
   "source": [
    "mbhb_parameter_list = [] \n",
    "for i in range(len(mbhb_parameters[\"chirp_mass\"])):\n",
    "    tmp = dict()\n",
    "    for k, v in mbhb_parameters.items(): \n",
    "        tmp[k] = v[i]\n",
    "    mbhb_parameter_list.append(tmp)\n",
    "mbhb_parameter_list"
   ]
  },
  {
   "cell_type": "markdown",
   "id": "c0ce9e33",
   "metadata": {},
   "source": [
    "## Search "
   ]
  },
  {
   "cell_type": "code",
   "execution_count": 12,
   "id": "0ae5fbee",
   "metadata": {},
   "outputs": [
    {
     "name": "stdout",
     "output_type": "stream",
     "text": [
      "number of searched sources: 1\n"
     ]
    },
    {
     "name": "stderr",
     "output_type": "stream",
     "text": [
      "/Users/taijidatacenter/workspace/Triangle-Simulator/Triangle/GW.py:689: RuntimeWarning: divide by zero encountered in scalar power\n",
      "  f_lower = 1.75e-5 * (Mc / 1e6) ** (-5.0 / 8.0) * (Tobs / 10.0) ** (-3.0 / 8.0)\n",
      "XLAL Error - Starting frequency is above ringdown frequency!\n",
      "XLAL Error - XLALSimIMRSpinAlignedEOBModes (LALSimIMRSpinAlignedEOB.c:1275): Invalid argument\n",
      "XLAL Error - XLALSimIMRSpinAlignedEOBWaveformAll (LALSimIMRSpinAlignedEOB.c:3912): Internal function call failed: Invalid argument\n",
      "XLAL Error - XLALSimIMRSpinAlignedEOBWaveform (LALSimIMRSpinAlignedEOB.c:783): Internal function call failed: Invalid argument\n",
      "XLAL Error - XLALSimInspiralChooseTDWaveform_legacy (LALSimInspiralGeneratorLegacy.c:1275): Internal function call failed: Invalid argument\n",
      "XLAL Error - Starting frequency is above ringdown frequency!\n",
      "XLAL Error - XLALSimIMRSpinAlignedEOBModes (LALSimIMRSpinAlignedEOB.c:1275): Invalid argument\n",
      "XLAL Error - XLALSimIMRSpinAlignedEOBWaveformAll (LALSimIMRSpinAlignedEOB.c:3912): Internal function call failed: Invalid argument\n",
      "XLAL Error - XLALSimIMRSpinAlignedEOBWaveform (LALSimIMRSpinAlignedEOB.c:783): Internal function call failed: Invalid argument\n",
      "XLAL Error - XLALSimInspiralChooseTDWaveform_legacy (LALSimInspiralGeneratorLegacy.c:1275): Internal function call failed: Invalid argument\n",
      "XLAL Error - Starting frequency is above ringdown frequency!\n",
      "XLAL Error - XLALSimIMRSpinAlignedEOBModes (LALSimIMRSpinAlignedEOB.c:1275): Invalid argument\n",
      "XLAL Error - XLALSimIMRSpinAlignedEOBWaveformAll (LALSimIMRSpinAlignedEOB.c:3912): Internal function call failed: Invalid argument\n",
      "XLAL Error - XLALSimIMRSpinAlignedEOBWaveform (LALSimIMRSpinAlignedEOB.c:783): Internal function call failed: Invalid argument\n",
      "XLAL Error - XLALSimInspiralChooseTDWaveform_legacy (LALSimInspiralGeneratorLegacy.c:1275): Internal function call failed: Invalid argument\n",
      "XLAL Error - Starting frequency is above ringdown frequency!\n",
      "XLAL Error - XLALSimIMRSpinAlignedEOBModes (LALSimIMRSpinAlignedEOB.c:1275): Invalid argument\n",
      "XLAL Error - XLALSimIMRSpinAlignedEOBWaveformAll (LALSimIMRSpinAlignedEOB.c:3912): Internal function call failed: Invalid argument\n",
      "XLAL Error - XLALSimIMRSpinAlignedEOBWaveform (LALSimIMRSpinAlignedEOB.c:783): Internal function call failed: Invalid argument\n",
      "XLAL Error - XLALSimInspiralChooseTDWaveform_legacy (LALSimInspiralGeneratorLegacy.c:1275): Internal function call failed: Invalid argument\n",
      "XLAL Error - Starting frequency is above ringdown frequency!\n",
      "XLAL Error - XLALSimIMRSpinAlignedEOBModes (LALSimIMRSpinAlignedEOB.c:1275): Invalid argument\n",
      "XLAL Error - XLALSimIMRSpinAlignedEOBWaveformAll (LALSimIMRSpinAlignedEOB.c:3912): Internal function call failed: Invalid argument\n",
      "XLAL Error - XLALSimIMRSpinAlignedEOBWaveform (LALSimIMRSpinAlignedEOB.c:783): Internal function call failed: Invalid argument\n",
      "XLAL Error - XLALSimInspiralChooseTDWaveform_legacy (LALSimInspiralGeneratorLegacy.c:1275): Internal function call failed: Invalid argument\n",
      "XLAL Error - Starting frequency is above ringdown frequency!\n",
      "XLAL Error - XLALSimIMRSpinAlignedEOBModes (LALSimIMRSpinAlignedEOB.c:1275): Invalid argument\n",
      "XLAL Error - XLALSimIMRSpinAlignedEOBWaveformAll (LALSimIMRSpinAlignedEOB.c:3912): Internal function call failed: Invalid argument\n",
      "XLAL Error - XLALSimIMRSpinAlignedEOBWaveform (LALSimIMRSpinAlignedEOB.c:783): Internal function call failed: Invalid argument\n",
      "XLAL Error - XLALSimInspiralChooseTDWaveform_legacy (LALSimInspiralGeneratorLegacy.c:1275): Internal function call failed: Invalid argument\n",
      "XLAL Error - Starting frequency is above ringdown frequency!\n",
      "XLAL Error - XLALSimIMRSpinAlignedEOBModes (LALSimIMRSpinAlignedEOB.c:1275): Invalid argument\n",
      "XLAL Error - XLALSimIMRSpinAlignedEOBWaveformAll (LALSimIMRSpinAlignedEOB.c:3912): Internal function call failed: Invalid argument\n",
      "XLAL Error - XLALSimIMRSpinAlignedEOBWaveform (LALSimIMRSpinAlignedEOB.c:783): Internal function call failed: Invalid argument\n",
      "XLAL Error - XLALSimInspiralChooseTDWaveform_legacy (LALSimInspiralGeneratorLegacy.c:1275): Internal function call failed: Invalid argument\n",
      "XLAL Error - Starting frequency is above ringdown frequency!\n",
      "XLAL Error - XLALSimIMRSpinAlignedEOBModes (LALSimIMRSpinAlignedEOB.c:1275): Invalid argument\n",
      "XLAL Error - XLALSimIMRSpinAlignedEOBWaveformAll (LALSimIMRSpinAlignedEOB.c:3912): Internal function call failed: Invalid argument\n",
      "XLAL Error - XLALSimIMRSpinAlignedEOBWaveform (LALSimIMRSpinAlignedEOB.c:783): Internal function call failed: Invalid argument\n",
      "XLAL Error - XLALSimInspiralChooseTDWaveform_legacy (LALSimInspiralGeneratorLegacy.c:1275): Internal function call failed: Invalid argument\n",
      "XLAL Error - Starting frequency is above ringdown frequency!\n",
      "XLAL Error - XLALSimIMRSpinAlignedEOBModes (LALSimIMRSpinAlignedEOB.c:1275): Invalid argument\n",
      "XLAL Error - XLALSimIMRSpinAlignedEOBWaveformAll (LALSimIMRSpinAlignedEOB.c:3912): Internal function call failed: Invalid argument\n",
      "XLAL Error - XLALSimIMRSpinAlignedEOBWaveform (LALSimIMRSpinAlignedEOB.c:783): Internal function call failed: Invalid argument\n",
      "XLAL Error - XLALSimInspiralChooseTDWaveform_legacy (LALSimInspiralGeneratorLegacy.c:1275): Internal function call failed: Invalid argument\n",
      "XLAL Error - Starting frequency is above ringdown frequency!\n",
      "XLAL Error - XLALSimIMRSpinAlignedEOBModes (LALSimIMRSpinAlignedEOB.c:1275): Invalid argument\n",
      "XLAL Error - XLALSimIMRSpinAlignedEOBWaveformAll (LALSimIMRSpinAlignedEOB.c:3912): Internal function call failed: Invalid argument\n",
      "XLAL Error - XLALSimIMRSpinAlignedEOBWaveform (LALSimIMRSpinAlignedEOB.c:783): Internal function call failed: Invalid argument\n",
      "XLAL Error - XLALSimInspiralChooseTDWaveform_legacy (LALSimInspiralGeneratorLegacy.c:1275): Internal function call failed: Invalid argument\n",
      "XLAL Error - Starting frequency is above ringdown frequency!\n",
      "XLAL Error - XLALSimIMRSpinAlignedEOBModes (LALSimIMRSpinAlignedEOB.c:1275): Invalid argument\n",
      "XLAL Error - XLALSimIMRSpinAlignedEOBWaveformAll (LALSimIMRSpinAlignedEOB.c:3912): Internal function call failed: Invalid argument\n",
      "XLAL Error - XLALSimIMRSpinAlignedEOBWaveform (LALSimIMRSpinAlignedEOB.c:783): Internal function call failed: Invalid argument\n",
      "XLAL Error - XLALSimInspiralChooseTDWaveform_legacy (LALSimInspiralGeneratorLegacy.c:1275): Internal function call failed: Invalid argument\n",
      "XLAL Error - Starting frequency is above ringdown frequency!\n",
      "XLAL Error - XLALSimIMRSpinAlignedEOBModes (LALSimIMRSpinAlignedEOB.c:1275): Invalid argument\n",
      "XLAL Error - XLALSimIMRSpinAlignedEOBWaveformAll (LALSimIMRSpinAlignedEOB.c:3912): Internal function call failed: Invalid argument\n",
      "XLAL Error - XLALSimIMRSpinAlignedEOBWaveform (LALSimIMRSpinAlignedEOB.c:783): Internal function call failed: Invalid argument\n",
      "XLAL Error - XLALSimInspiralChooseTDWaveform_legacy (LALSimInspiralGeneratorLegacy.c:1275): Internal function call failed: Invalid argument\n",
      "XLAL Error - Starting frequency is above ringdown frequency!\n",
      "XLAL Error - XLALSimIMRSpinAlignedEOBModes (LALSimIMRSpinAlignedEOB.c:1275): Invalid argument\n",
      "XLAL Error - XLALSimIMRSpinAlignedEOBWaveformAll (LALSimIMRSpinAlignedEOB.c:3912): Internal function call failed: Invalid argument\n",
      "XLAL Error - XLALSimIMRSpinAlignedEOBWaveform (LALSimIMRSpinAlignedEOB.c:783): Internal function call failed: Invalid argument\n",
      "XLAL Error - XLALSimInspiralChooseTDWaveform_legacy (LALSimInspiralGeneratorLegacy.c:1275): Internal function call failed: Invalid argument\n",
      "XLAL Error - Starting frequency is above ringdown frequency!\n",
      "XLAL Error - XLALSimIMRSpinAlignedEOBModes (LALSimIMRSpinAlignedEOB.c:1275): Invalid argument\n",
      "XLAL Error - XLALSimIMRSpinAlignedEOBWaveformAll (LALSimIMRSpinAlignedEOB.c:3912): Internal function call failed: Invalid argument\n",
      "XLAL Error - XLALSimIMRSpinAlignedEOBWaveform (LALSimIMRSpinAlignedEOB.c:783): Internal function call failed: Invalid argument\n",
      "XLAL Error - XLALSimInspiralChooseTDWaveform_legacy (LALSimInspiralGeneratorLegacy.c:1275): Internal function call failed: Invalid argument\n",
      "XLAL Error - Starting frequency is above ringdown frequency!\n",
      "XLAL Error - XLALSimIMRSpinAlignedEOBModes (LALSimIMRSpinAlignedEOB.c:1275): Invalid argument\n",
      "XLAL Error - XLALSimIMRSpinAlignedEOBWaveformAll (LALSimIMRSpinAlignedEOB.c:3912): Internal function call failed: Invalid argument\n",
      "XLAL Error - XLALSimIMRSpinAlignedEOBWaveform (LALSimIMRSpinAlignedEOB.c:783): Internal function call failed: Invalid argument\n",
      "XLAL Error - XLALSimInspiralChooseTDWaveform_legacy (LALSimInspiralGeneratorLegacy.c:1275): Internal function call failed: Invalid argument\n",
      "XLAL Error - Starting frequency is above ringdown frequency!\n",
      "XLAL Error - XLALSimIMRSpinAlignedEOBModes (LALSimIMRSpinAlignedEOB.c:1275): Invalid argument\n",
      "XLAL Error - XLALSimIMRSpinAlignedEOBWaveformAll (LALSimIMRSpinAlignedEOB.c:3912): Internal function call failed: Invalid argument\n",
      "XLAL Error - XLALSimIMRSpinAlignedEOBWaveform (LALSimIMRSpinAlignedEOB.c:783): Internal function call failed: Invalid argument\n",
      "XLAL Error - XLALSimInspiralChooseTDWaveform_legacy (LALSimInspiralGeneratorLegacy.c:1275): Internal function call failed: Invalid argument\n",
      "XLAL Error - Starting frequency is above ringdown frequency!\n",
      "XLAL Error - XLALSimIMRSpinAlignedEOBModes (LALSimIMRSpinAlignedEOB.c:1275): Invalid argument\n",
      "XLAL Error - XLALSimIMRSpinAlignedEOBWaveformAll (LALSimIMRSpinAlignedEOB.c:3912): Internal function call failed: Invalid argument\n",
      "XLAL Error - XLALSimIMRSpinAlignedEOBWaveform (LALSimIMRSpinAlignedEOB.c:783): Internal function call failed: Invalid argument\n",
      "XLAL Error - XLALSimInspiralChooseTDWaveform_legacy (LALSimInspiralGeneratorLegacy.c:1275): Internal function call failed: Invalid argument\n",
      "XLAL Error - Starting frequency is above ringdown frequency!\n",
      "XLAL Error - XLALSimIMRSpinAlignedEOBModes (LALSimIMRSpinAlignedEOB.c:1275): Invalid argument\n",
      "XLAL Error - XLALSimIMRSpinAlignedEOBWaveformAll (LALSimIMRSpinAlignedEOB.c:3912): Internal function call failed: Invalid argument\n",
      "XLAL Error - XLALSimIMRSpinAlignedEOBWaveform (LALSimIMRSpinAlignedEOB.c:783): Internal function call failed: Invalid argument\n",
      "XLAL Error - XLALSimInspiralChooseTDWaveform_legacy (LALSimInspiralGeneratorLegacy.c:1275): Internal function call failed: Invalid argument\n",
      "XLAL Error - Starting frequency is above ringdown frequency!\n",
      "XLAL Error - XLALSimIMRSpinAlignedEOBModes (LALSimIMRSpinAlignedEOB.c:1275): Invalid argument\n",
      "XLAL Error - XLALSimIMRSpinAlignedEOBWaveformAll (LALSimIMRSpinAlignedEOB.c:3912): Internal function call failed: Invalid argument\n",
      "XLAL Error - XLALSimIMRSpinAlignedEOBWaveform (LALSimIMRSpinAlignedEOB.c:783): Internal function call failed: Invalid argument\n",
      "XLAL Error - XLALSimInspiralChooseTDWaveform_legacy (LALSimInspiralGeneratorLegacy.c:1275): Internal function call failed: Invalid argument\n",
      "XLAL Error - Starting frequency is above ringdown frequency!\n",
      "XLAL Error - XLALSimIMRSpinAlignedEOBModes (LALSimIMRSpinAlignedEOB.c:1275): Invalid argument\n",
      "XLAL Error - XLALSimIMRSpinAlignedEOBWaveformAll (LALSimIMRSpinAlignedEOB.c:3912): Internal function call failed: Invalid argument\n",
      "XLAL Error - XLALSimIMRSpinAlignedEOBWaveform (LALSimIMRSpinAlignedEOB.c:783): Internal function call failed: Invalid argument\n",
      "XLAL Error - XLALSimInspiralChooseTDWaveform_legacy (LALSimInspiralGeneratorLegacy.c:1275): Internal function call failed: Invalid argument\n",
      "XLAL Error - Starting frequency is above ringdown frequency!\n",
      "XLAL Error - XLALSimIMRSpinAlignedEOBModes (LALSimIMRSpinAlignedEOB.c:1275): Invalid argument\n",
      "XLAL Error - XLALSimIMRSpinAlignedEOBWaveformAll (LALSimIMRSpinAlignedEOB.c:3912): Internal function call failed: Invalid argument\n",
      "XLAL Error - XLALSimIMRSpinAlignedEOBWaveform (LALSimIMRSpinAlignedEOB.c:783): Internal function call failed: Invalid argument\n",
      "XLAL Error - XLALSimInspiralChooseTDWaveform_legacy (LALSimInspiralGeneratorLegacy.c:1275): Internal function call failed: Invalid argument\n",
      "XLAL Error - Starting frequency is above ringdown frequency!\n",
      "XLAL Error - XLALSimIMRSpinAlignedEOBModes (LALSimIMRSpinAlignedEOB.c:1275): Invalid argument\n",
      "XLAL Error - XLALSimIMRSpinAlignedEOBWaveformAll (LALSimIMRSpinAlignedEOB.c:3912): Internal function call failed: Invalid argument\n",
      "XLAL Error - XLALSimIMRSpinAlignedEOBWaveform (LALSimIMRSpinAlignedEOB.c:783): Internal function call failed: Invalid argument\n",
      "XLAL Error - XLALSimInspiralChooseTDWaveform_legacy (LALSimInspiralGeneratorLegacy.c:1275): Internal function call failed: Invalid argument\n"
     ]
    },
    {
     "name": "stdout",
     "output_type": "stream",
     "text": [
      "low SNR: 0.04272825140477859\n",
      "no new source found.\n"
     ]
    }
   ],
   "source": [
    "searched_source_count = 0 \n",
    "searched_params = [] \n",
    "searched_signal_td = []\n",
    "searched_signal_fd = []\n",
    "run_flag = True \n",
    "\n",
    "while run_flag: \n",
    "    # load data \n",
    "    if searched_source_count == 0: \n",
    "        data_td = data_slice[0].copy()\n",
    "    else: \n",
    "        data_td = data_slice[0] - np.sum(np.array(searched_signal_td), axis=0)\n",
    "    \n",
    "    # set time \n",
    "    data_time = time_slice.copy()\n",
    "    dt = data_time[1] - data_time[0]\n",
    "\n",
    "    # fourier transform of data \n",
    "    win_args = dict(window_type=\"tukey\", window_args_dict=dict(alpha=0.05))\n",
    "    data_frequency, data_fd = FFT_window(data_td, fsample=1./dt, **win_args)\n",
    "    df = data_frequency[1] - data_frequency[0]\n",
    "\n",
    "    # remove null frequencies \n",
    "    mask = np.ones_like(data_frequency, dtype=bool)\n",
    "    for i in range(1, 41):\n",
    "        mask_idx = np.where(np.abs(data_frequency - i * 0.025) < 5e-4 * i)[0]\n",
    "        mask[mask_idx] = False \n",
    "    data_frequency = data_frequency[mask]\n",
    "    data_fd = data_fd[mask]\n",
    "    # print(\"frequency-domain data shape:\", data_fd.shape)\n",
    "\n",
    "    # calculate PSD at given arm length \n",
    "    orbit = Orbit(OrbitDir=\"../OrbitData/MicroSateOrbitEclipticTCB\")\n",
    "    arms = dict()\n",
    "    for key in MOSA_labels: \n",
    "        arms[key] = float(orbit.LTTfunctions()[key](np.mean(data_time)))\n",
    "    # assumming noises are known \n",
    "    PSDfunc = TDIPSDs()\n",
    "    PSDdata = PSDfunc.PSD_X2_unequal(data_frequency, arms)\n",
    "\n",
    "    # signal model \n",
    "    mbhb_waveform_generator = MBHB_Injection(approx_method=\"SEOBNRv4_opt\", buffer=True)\n",
    "    mbhb_response_generator = FastMichelsonTDIResponse(\n",
    "        orbit=orbit,\n",
    "        tcb_times=data_time.copy(), \n",
    "        use_gpu=False, \n",
    "        drop_points=int(1000./dt), \n",
    "        interp_method=\"linear\",\n",
    "        complex_waveform_interp_order=3,\n",
    "    )\n",
    "\n",
    "    # snr as a function of parameters \n",
    "    def rho_dl(params): \n",
    "        \"\"\" SNR with luminosity distance marginalized, params is 10-d \"\"\"\n",
    "        params_full = np.zeros(11, dtype=np.float64)\n",
    "        params_full[:6] = params[:6]\n",
    "        params_full[7:] = params[6:] # lgdl = 0 -> dl = 1\n",
    "        try: \n",
    "            template_td, _, _ = mbhb_response_generator(parameters=ParamArr2ParamDict(params_full), waveform_generator=mbhb_waveform_generator, optimal_combination=False, complex_waveform=True)\n",
    "        except (RuntimeError, ValueError) as e: \n",
    "            # print(\"error:\", e)\n",
    "            # print(\"error parameters:\", params_full)\n",
    "            template_td = np.zeros_like(data_td)\n",
    "            # template_td = np.ones_like(data_td) * 1e-25\n",
    "        _, template_fd = FFT_window(template_td, fsample=1./dt, **win_args)\n",
    "        template_fd = template_fd[mask]\n",
    "        d_h_inner = np.sum(np.real(np.conjugate(data_fd) * template_fd) / PSDdata * 4. * df) \n",
    "        h_h_inner = np.sum(np.abs(template_fd) ** 2 / PSDdata * 4. * df) \n",
    "        # return d_h_inner / np.sqrt(h_h_inner)\n",
    "        return d_h_inner / np.sqrt(h_h_inner + 1e-6)\n",
    "\n",
    "    def cost_function(params):\n",
    "        \"\"\" costfunction = - SNR, params is 10-d \"\"\"\n",
    "        return -rho_dl(params)\n",
    "\n",
    "    # recover dl and convert other parameters \n",
    "    def recover_params(params):\n",
    "        params_full = np.zeros(11, dtype=np.float64)\n",
    "        params_full[:6] = params[:6]\n",
    "        params_full[7:] = params[6:] # lgdl = 0 -> dl = 1\n",
    "        template_td, _, _ = mbhb_response_generator(parameters=ParamArr2ParamDict(params_full), waveform_generator=mbhb_waveform_generator, optimal_combination=False, complex_waveform=True)\n",
    "        _, template_fd = FFT_window(template_td, fsample=1./dt, **win_args)\n",
    "        template_fd = template_fd[mask]\n",
    "        d_h_inner = np.sum(np.real(np.conjugate(data_fd) * template_fd) / PSDdata * 4. * df) \n",
    "        h_h_inner = np.sum(np.abs(template_fd) ** 2 / PSDdata * 4. * df) \n",
    "        dl = h_h_inner / d_h_inner\n",
    "        recovered_params = ParamArr2ParamDict(params_full)\n",
    "        recovered_params[\"luminosity_distance\"] = dl \n",
    "        return recovered_params\n",
    "    \n",
    "    # set search params \n",
    "    maxiter=2000\n",
    "    popsize=30\n",
    "    tol=1e-6\n",
    "    atol=1e-2\n",
    "\n",
    "    bounds = [\n",
    "        (4., 7.),\n",
    "        (0.1, 1.),\n",
    "        (-0.99, 0.99),\n",
    "        (-0.99, 0.99),\n",
    "        (data_time[0]/DAY, data_time[-1]/DAY),\n",
    "        (0, TWOPI), \n",
    "        (-1., 1.),\n",
    "        (0, TWOPI), \n",
    "        (-1., 1.), \n",
    "        (0, PI),\n",
    "    ]\n",
    "\n",
    "    # begin search \n",
    "    result = differential_evolution(\n",
    "        func=cost_function, \n",
    "        bounds=bounds,\n",
    "        strategy='best1bin',    \n",
    "        maxiter=maxiter,\n",
    "        popsize=popsize,\n",
    "        tol=tol,\n",
    "        atol=atol, \n",
    "        mutation=(0.5, 1),    \n",
    "        recombination=0.9, \n",
    "        workers=-1, \n",
    "        updating='deferred', \n",
    "        seed=114514\n",
    "    )\n",
    "    \n",
    "    if result.success and -result.fun > 20.:\n",
    "        searched_source_count += 1\n",
    "        searched_params.append(recover_params(result.x))\n",
    "        tmp_td, _, _ = mbhb_response_generator(parameters=searched_params[-1], waveform_generator=mbhb_waveform_generator, optimal_combination=False, complex_waveform=True)\n",
    "        _, tmp_fd = FFT_window(tmp_td, 1./dt, **win_args)\n",
    "        tmp_fd = tmp_fd[mask]\n",
    "        searched_signal_td.append(tmp_td)\n",
    "        searched_signal_fd.append(tmp_fd)\n",
    "        print(\"number of searched sources:\", searched_source_count)\n",
    "    else: \n",
    "        if not result.success:\n",
    "            print(\"optimization failed.\")\n",
    "        elif -result.fun <= 20.:\n",
    "            print(\"low SNR:\", -result.fun)\n",
    "        print(\"no new source found.\")\n",
    "        run_flag = False "
   ]
  },
  {
   "cell_type": "code",
   "execution_count": 13,
   "id": "4232822e",
   "metadata": {},
   "outputs": [
    {
     "data": {
      "text/plain": [
       "array([-1.11404655e-03, -8.42454727e-03,  1.13271702e-01, -4.94440318e-01,\n",
       "       -6.25084493e-03, -2.49888142e+00,  3.46801210e-01,  2.58902357e-01,\n",
       "        1.64016587e+00,  1.17792425e+00,  2.59749691e+00])"
      ]
     },
     "execution_count": 13,
     "metadata": {},
     "output_type": "execute_result"
    }
   ],
   "source": [
    "np.array(ParamDict2ParamArr(searched_params[0]))-np.array(ParamDict2ParamArr(mbhb_parameter_list[0]))"
   ]
  },
  {
   "cell_type": "code",
   "execution_count": 18,
   "id": "cdc5ebae",
   "metadata": {},
   "outputs": [
    {
     "data": {
      "text/plain": [
       "(343.75, 343.81)"
      ]
     },
     "execution_count": 18,
     "metadata": {},
     "output_type": "execute_result"
    },
    {
     "data": {
      "image/png": "[encoded data removed]",
      "text/plain": [
       "<Figure size 640x480 with 1 Axes>"
      ]
     },
     "metadata": {},
     "output_type": "display_data"
    }
   ],
   "source": [
    "plt.plot(data_time / DAY, data_slice[0], linewidth=1, label=\"data\")\n",
    "plt.plot(data_time / DAY, np.sum(np.array(searched_signal_td), axis=0), linestyle=\"--\", label=\"searched signal\")\n",
    "plt.plot(data_time / DAY, data_slice[0] - np.sum(np.array(searched_signal_td), axis=0), linewidth=1, alpha=0.4, label=\"residual\")\n",
    "plt.xlabel(\"Time (day)\")\n",
    "plt.ylabel(\"TDI\")\n",
    "plt.legend(loc=\"upper left\", frameon=False)\n",
    "plt.xlim(343.75, 343.81)"
   ]
  },
  {
   "cell_type": "markdown",
   "id": "c15ba619",
   "metadata": {},
   "source": [
    "## Results\n",
    "chirp mass, mass ratio and coalescence time can be well estimated, while the sky locations remains to be refined using methods such as MCMC "
   ]
  }
 ],
 "metadata": {
  "kernelspec": {
   "display_name": "triangle",
   "language": "python",
   "name": "python3"
  },
  "language_info": {
   "codemirror_mode": {
    "name": "ipython",
    "version": 3
   },
   "file_extension": ".py",
   "mimetype": "text/x-python",
   "name": "python",
   "nbconvert_exporter": "python",
   "pygments_lexer": "ipython3",
   "version": "3.9.21"
  }
 },
 "nbformat": 4,
 "nbformat_minor": 5
}
